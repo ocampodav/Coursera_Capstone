{
    "cells": [
        {
            "cell_type": "markdown",
            "metadata": {
                "collapsed": true
            },
            "source": "# Capstone Project - The Battle of the Neighborhoods\n\n#### Capstone Project for Applied Data Science Specialization offered by IBM/Coursera"
        },
        {
            "cell_type": "markdown",
            "metadata": {},
            "source": "### Table Of Content:\n* [Introduction/Business Problem](#introduction)\n* [Data](#data)"
        },
        {
            "cell_type": "markdown",
            "metadata": {},
            "source": "### Introduction/Business Problem <a class=\"anchor\" id=\"introduction\"></a>"
        },
        {
            "cell_type": "markdown",
            "metadata": {},
            "source": "Through this project we will collect and deliver information that helps our target audience to find the optimal location for a new restaurant in **Bogot\u00e1, Colombia**. The results of this analysis are intended to be used by entrepreneurs interested in opening a restaurant of an any given type in one of the 21 _localidades_ (boroughs) of the Colombia's capital city.\n\nIn order to deliver valuable information to our target audience, we will identify those city zones where the restaurant and food service industry are already located and what type of restaurants or food business are running. Also, we will identify locations that have not plenty of restaurants already. This way we will provide information so the most promising neighborhoods and the best possible location can be chosen by the entrepreneur. "
        },
        {
            "cell_type": "markdown",
            "metadata": {},
            "source": "### Data <a class=\"anchor\" id=\"data\"></a>"
        },
        {
            "cell_type": "markdown",
            "metadata": {},
            "source": "Based on our problem definition, this information will be provided as a result of the analysis:\n* number of existing restaurants in every _localidad_ (any type of restaurant)\n* number of existing restaurants in every _localidad_ by type/category, if any\n* segmentation of _localidades_ by type/category of restaurant or food business\n\nThe data sources that will be used to generate the required information:\n* number of restaurants/food busines and their type and location in every neighborhood, will be obtained from **Foursquare API**\n* geographic information of every _localidad_ of Bogot\u00e1 city, will be obtained from **Laboratorio Urbano Bogot\u00e1 web page**  \n"
        }
    ],
    "metadata": {
        "kernelspec": {
            "display_name": "Python 3.7",
            "language": "python",
            "name": "python3"
        },
        "language_info": {
            "codemirror_mode": {
                "name": "ipython",
                "version": 3
            },
            "file_extension": ".py",
            "mimetype": "text/x-python",
            "name": "python",
            "nbconvert_exporter": "python",
            "pygments_lexer": "ipython3",
            "version": "3.7.10"
        }
    },
    "nbformat": 4,
    "nbformat_minor": 1
}